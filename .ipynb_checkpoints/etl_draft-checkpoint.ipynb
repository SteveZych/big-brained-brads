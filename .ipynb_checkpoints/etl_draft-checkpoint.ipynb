{
 "cells": [
  {
   "cell_type": "markdown",
   "metadata": {},
   "source": [
    "###### Install/Import Dependencies"
   ]
  },
  {
   "cell_type": "code",
   "execution_count": 1,
   "metadata": {},
   "outputs": [],
   "source": [
    "# # install API dependency (if needed)\n",
    "# pip install kaggle\n",
    "# print(f'Kaggle has been installed!')\n",
    "# print(f'-')"
   ]
  },
  {
   "cell_type": "code",
   "execution_count": 2,
   "metadata": {},
   "outputs": [
    {
     "name": "stdout",
     "output_type": "stream",
     "text": [
      "Database configuration imported\n",
      "Python dependencies imported\n"
     ]
    }
   ],
   "source": [
    "# import database connection configuration\n",
    "# must create config.py in project root (currently on .gitignore)\n",
    "from config import user, password, host, database, param_dic\n",
    "\n",
    "# import python dependencies\n",
    "import kaggle\n",
    "import numpy as np\n",
    "import os\n",
    "import pandas as pd\n",
    "import psycopg2\n",
    "import psycopg2.extras as extras\n",
    "from sqlalchemy import create_engine\n",
    "import sys\n",
    "import time\n",
    "\n",
    "# print import status\n",
    "print(f'Database configuration imported')\n",
    "print(f'Python dependencies imported')"
   ]
  },
  {
   "cell_type": "code",
   "execution_count": 3,
   "metadata": {},
   "outputs": [
    {
     "name": "stdout",
     "output_type": "stream",
     "text": [
      "Process start time recorded\n",
      "---\n"
     ]
    }
   ],
   "source": [
    "# record start time for total run time\n",
    "nb_start = time.time() # measures number of seconds since 1970\n",
    "\n",
    "# print time record status\n",
    "print(f'Process start time recorded')\n",
    "print(f'---')"
   ]
  },
  {
   "cell_type": "code",
   "execution_count": 4,
   "metadata": {},
   "outputs": [
    {
     "name": "stdout",
     "output_type": "stream",
     "text": [
      "Kaggle API token loaded\n"
     ]
    }
   ],
   "source": [
    "# Go to https://www.kaggle.com/user_name/account to create API token\n",
    "# Place kaggle.json (download) into 'C:\\Users\\computer_name\\.kaggle\\kaggle.json'\n",
    "kaggle.api.authenticate()\n",
    "\n",
    "# print token status\n",
    "print(f'Kaggle API token loaded')"
   ]
  },
  {
   "cell_type": "code",
   "execution_count": 6,
   "metadata": {},
   "outputs": [
    {
     "name": "stdout",
     "output_type": "stream",
     "text": [
      "Retrieving NHL Game data from Kaggle...\n",
      "Files retrieved!\n",
      "-\n"
     ]
    }
   ],
   "source": [
    "print(f'Retrieving NHL Game data from Kaggle...')\n",
    "\n",
    "# download kaggle dataset (NHL Hockey Data)\n",
    "# will overwrite local files, if they exist\n",
    "kaggle.api.dataset_download_files(\n",
    "    'anubhabswain/brain-weight-in-humans',\n",
    "    path = '../big-brained-brads/data/',\n",
    "    unzip = True\n",
    ")\n",
    "\n",
    "# print file retrieval status\n",
    "print(f'Files retrieved!')\n",
    "print(f'-')"
   ]
  },
  {
   "cell_type": "code",
   "execution_count": null,
   "metadata": {},
   "outputs": [],
   "source": []
  }
 ],
 "metadata": {
  "kernelspec": {
   "display_name": "Python 3",
   "language": "python",
   "name": "python3"
  },
  "language_info": {
   "codemirror_mode": {
    "name": "ipython",
    "version": 3
   },
   "file_extension": ".py",
   "mimetype": "text/x-python",
   "name": "python",
   "nbconvert_exporter": "python",
   "pygments_lexer": "ipython3",
   "version": "3.8.5"
  }
 },
 "nbformat": 4,
 "nbformat_minor": 4
}
