{
 "cells": [
  {
   "cell_type": "code",
   "execution_count": 5,
   "metadata": {},
   "outputs": [],
   "source": [
    "import numpy as np\n",
    "import os\n",
    "import pandas as pd\n",
    "from sqlalchemy import create_engine"
   ]
  },
  {
   "cell_type": "code",
   "execution_count": 6,
   "metadata": {},
   "outputs": [
    {
     "data": {
      "text/html": [
       "<div>\n",
       "<style scoped>\n",
       "    .dataframe tbody tr th:only-of-type {\n",
       "        vertical-align: middle;\n",
       "    }\n",
       "\n",
       "    .dataframe tbody tr th {\n",
       "        vertical-align: top;\n",
       "    }\n",
       "\n",
       "    .dataframe thead th {\n",
       "        text-align: right;\n",
       "    }\n",
       "</style>\n",
       "<table border=\"1\" class=\"dataframe\">\n",
       "  <thead>\n",
       "    <tr style=\"text-align: right;\">\n",
       "      <th></th>\n",
       "      <th>gender</th>\n",
       "      <th>age</th>\n",
       "      <th>size</th>\n",
       "      <th>weight</th>\n",
       "    </tr>\n",
       "  </thead>\n",
       "  <tbody>\n",
       "    <tr>\n",
       "      <th>0</th>\n",
       "      <td>1</td>\n",
       "      <td>1</td>\n",
       "      <td>4512</td>\n",
       "      <td>1530</td>\n",
       "    </tr>\n",
       "    <tr>\n",
       "      <th>1</th>\n",
       "      <td>1</td>\n",
       "      <td>1</td>\n",
       "      <td>3738</td>\n",
       "      <td>1297</td>\n",
       "    </tr>\n",
       "    <tr>\n",
       "      <th>2</th>\n",
       "      <td>1</td>\n",
       "      <td>1</td>\n",
       "      <td>4261</td>\n",
       "      <td>1335</td>\n",
       "    </tr>\n",
       "    <tr>\n",
       "      <th>3</th>\n",
       "      <td>1</td>\n",
       "      <td>1</td>\n",
       "      <td>3777</td>\n",
       "      <td>1282</td>\n",
       "    </tr>\n",
       "    <tr>\n",
       "      <th>4</th>\n",
       "      <td>1</td>\n",
       "      <td>1</td>\n",
       "      <td>4177</td>\n",
       "      <td>1590</td>\n",
       "    </tr>\n",
       "  </tbody>\n",
       "</table>\n",
       "</div>"
      ],
      "text/plain": [
       "   gender  age  size  weight\n",
       "0       1    1  4512    1530\n",
       "1       1    1  3738    1297\n",
       "2       1    1  4261    1335\n",
       "3       1    1  3777    1282\n",
       "4       1    1  4177    1590"
      ]
     },
     "execution_count": 6,
     "metadata": {},
     "output_type": "execute_result"
    }
   ],
   "source": [
    "# read player_info csv to df\n",
    "brains_df = pd.read_csv('dataset.csv')\n",
    "brains_df.rename(columns = {\n",
    "    'Gender' : 'gender',\n",
    "    'Age Range' : 'age',\n",
    "    'Head Size(cm^3)' : 'size',\n",
    "    'Brain Weight(grams)' : 'weight'\n",
    "}, inplace = True)\n",
    "brains_df.head(5)"
   ]
  },
  {
   "cell_type": "code",
   "execution_count": 7,
   "metadata": {},
   "outputs": [],
   "source": [
    "brains_df['gender'] = brains_df['gender'].astype(str)\n",
    "brains_df['age'] = brains_df['age'].astype(str)"
   ]
  },
  {
   "cell_type": "code",
   "execution_count": 8,
   "metadata": {},
   "outputs": [
    {
     "data": {
      "text/html": [
       "<div>\n",
       "<style scoped>\n",
       "    .dataframe tbody tr th:only-of-type {\n",
       "        vertical-align: middle;\n",
       "    }\n",
       "\n",
       "    .dataframe tbody tr th {\n",
       "        vertical-align: top;\n",
       "    }\n",
       "\n",
       "    .dataframe thead th {\n",
       "        text-align: right;\n",
       "    }\n",
       "</style>\n",
       "<table border=\"1\" class=\"dataframe\">\n",
       "  <thead>\n",
       "    <tr style=\"text-align: right;\">\n",
       "      <th></th>\n",
       "      <th>gender</th>\n",
       "      <th>age</th>\n",
       "      <th>size</th>\n",
       "      <th>weight</th>\n",
       "    </tr>\n",
       "  </thead>\n",
       "  <tbody>\n",
       "    <tr>\n",
       "      <th>0</th>\n",
       "      <td>male</td>\n",
       "      <td>adult</td>\n",
       "      <td>4512</td>\n",
       "      <td>1530</td>\n",
       "    </tr>\n",
       "    <tr>\n",
       "      <th>1</th>\n",
       "      <td>male</td>\n",
       "      <td>adult</td>\n",
       "      <td>3738</td>\n",
       "      <td>1297</td>\n",
       "    </tr>\n",
       "    <tr>\n",
       "      <th>2</th>\n",
       "      <td>male</td>\n",
       "      <td>adult</td>\n",
       "      <td>4261</td>\n",
       "      <td>1335</td>\n",
       "    </tr>\n",
       "    <tr>\n",
       "      <th>3</th>\n",
       "      <td>male</td>\n",
       "      <td>adult</td>\n",
       "      <td>3777</td>\n",
       "      <td>1282</td>\n",
       "    </tr>\n",
       "    <tr>\n",
       "      <th>4</th>\n",
       "      <td>male</td>\n",
       "      <td>adult</td>\n",
       "      <td>4177</td>\n",
       "      <td>1590</td>\n",
       "    </tr>\n",
       "  </tbody>\n",
       "</table>\n",
       "</div>"
      ],
      "text/plain": [
       "  gender    age  size  weight\n",
       "0   male  adult  4512    1530\n",
       "1   male  adult  3738    1297\n",
       "2   male  adult  4261    1335\n",
       "3   male  adult  3777    1282\n",
       "4   male  adult  4177    1590"
      ]
     },
     "execution_count": 8,
     "metadata": {},
     "output_type": "execute_result"
    }
   ],
   "source": [
    "brains_df['gender'].replace({'1' : 'male', '2' : 'female'}, inplace = True)\n",
    "brains_df['age'].replace({'1' : 'adult', '2' : 'child'}, inplace = True)\n",
    "brains_df.head(5)"
   ]
  },
  {
   "cell_type": "code",
   "execution_count": 9,
   "metadata": {},
   "outputs": [
    {
     "name": "stdout",
     "output_type": "stream",
     "text": [
      "2021-07-19 19:33:52,067 INFO sqlalchemy.engine.base.Engine SELECT CAST('test plain returns' AS VARCHAR(60)) AS anon_1\n",
      "2021-07-19 19:33:52,069 INFO sqlalchemy.engine.base.Engine ()\n",
      "2021-07-19 19:33:52,070 INFO sqlalchemy.engine.base.Engine SELECT CAST('test unicode returns' AS VARCHAR(60)) AS anon_1\n",
      "2021-07-19 19:33:52,071 INFO sqlalchemy.engine.base.Engine ()\n"
     ]
    }
   ],
   "source": [
    "engine = create_engine('sqlite:///brains.sqlite', echo=True)\n",
    "sqlite_connection = engine.connect()"
   ]
  },
  {
   "cell_type": "code",
   "execution_count": 10,
   "metadata": {},
   "outputs": [
    {
     "name": "stdout",
     "output_type": "stream",
     "text": [
      "2021-07-19 19:34:37,829 INFO sqlalchemy.engine.base.Engine PRAGMA main.table_info(\"brain_weights\")\n",
      "2021-07-19 19:34:37,830 INFO sqlalchemy.engine.base.Engine ()\n",
      "2021-07-19 19:34:37,832 INFO sqlalchemy.engine.base.Engine PRAGMA temp.table_info(\"brain_weights\")\n",
      "2021-07-19 19:34:37,833 INFO sqlalchemy.engine.base.Engine ()\n",
      "2021-07-19 19:34:37,836 INFO sqlalchemy.engine.base.Engine \n",
      "CREATE TABLE brain_weights (\n",
      "\t\"index\" BIGINT, \n",
      "\tgender TEXT, \n",
      "\tage TEXT, \n",
      "\tsize BIGINT, \n",
      "\tweight BIGINT\n",
      ")\n",
      "\n",
      "\n",
      "2021-07-19 19:34:37,836 INFO sqlalchemy.engine.base.Engine ()\n",
      "2021-07-19 19:34:37,847 INFO sqlalchemy.engine.base.Engine COMMIT\n",
      "2021-07-19 19:34:37,848 INFO sqlalchemy.engine.base.Engine CREATE INDEX ix_brain_weights_index ON brain_weights (\"index\")\n",
      "2021-07-19 19:34:37,850 INFO sqlalchemy.engine.base.Engine ()\n",
      "2021-07-19 19:34:37,859 INFO sqlalchemy.engine.base.Engine COMMIT\n",
      "2021-07-19 19:34:37,862 INFO sqlalchemy.engine.base.Engine BEGIN (implicit)\n",
      "2021-07-19 19:34:37,865 INFO sqlalchemy.engine.base.Engine INSERT INTO brain_weights (\"index\", gender, age, size, weight) VALUES (?, ?, ?, ?, ?)\n",
      "2021-07-19 19:34:37,866 INFO sqlalchemy.engine.base.Engine ((0, 'male', 'adult', 4512, 1530), (1, 'male', 'adult', 3738, 1297), (2, 'male', 'adult', 4261, 1335), (3, 'male', 'adult', 3777, 1282), (4, 'male', 'adult', 4177, 1590), (5, 'male', 'adult', 3585, 1300), (6, 'male', 'adult', 3785, 1400), (7, 'male', 'adult', 3559, 1255)  ... displaying 10 of 237 total bound parameter sets ...  (235, 'female', 'child', 3352, 1170), (236, 'female', 'child', 3391, 1120))\n",
      "2021-07-19 19:34:37,869 INFO sqlalchemy.engine.base.Engine COMMIT\n"
     ]
    }
   ],
   "source": [
    "sqlite_table = \"brain_weights\"\n",
    "brains_df.to_sql(sqlite_table, sqlite_connection, if_exists='replace')"
   ]
  },
  {
   "cell_type": "code",
   "execution_count": 11,
   "metadata": {},
   "outputs": [],
   "source": [
    "sqlite_connection.close()"
   ]
  },
  {
   "cell_type": "code",
   "execution_count": null,
   "metadata": {},
   "outputs": [],
   "source": []
  },
  {
   "cell_type": "code",
   "execution_count": null,
   "metadata": {},
   "outputs": [],
   "source": []
  }
 ],
 "metadata": {
  "kernelspec": {
   "display_name": "Python 3",
   "language": "python",
   "name": "python3"
  },
  "language_info": {
   "codemirror_mode": {
    "name": "ipython",
    "version": 3
   },
   "file_extension": ".py",
   "mimetype": "text/x-python",
   "name": "python",
   "nbconvert_exporter": "python",
   "pygments_lexer": "ipython3",
   "version": "3.8.5"
  }
 },
 "nbformat": 4,
 "nbformat_minor": 4
}
