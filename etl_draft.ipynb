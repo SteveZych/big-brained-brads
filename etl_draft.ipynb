{
 "cells": [
  {
   "cell_type": "markdown",
   "metadata": {},
   "source": [
    "###### Install/Import Dependencies"
   ]
  },
  {
   "cell_type": "code",
   "execution_count": 1,
   "metadata": {},
   "outputs": [],
   "source": [
    "# # install API dependency (if needed)\n",
    "# pip install kaggle\n",
    "# print(f'Kaggle has been installed!')\n",
    "# print(f'-')"
   ]
  },
  {
   "cell_type": "code",
   "execution_count": 2,
   "metadata": {},
   "outputs": [
    {
     "name": "stdout",
     "output_type": "stream",
     "text": [
      "Database configuration imported\n",
      "Python dependencies imported\n"
     ]
    }
   ],
   "source": [
    "# import database connection configuration\n",
    "# must create config.py in project root (currently on .gitignore)\n",
    "from config import user, password, host, database, param_dic\n",
    "\n",
    "# import python dependencies\n",
    "import kaggle\n",
    "import numpy as np\n",
    "import os\n",
    "import pandas as pd\n",
    "import psycopg2\n",
    "import psycopg2.extras as extras\n",
    "from sqlalchemy import create_engine\n",
    "import sys\n",
    "import time\n",
    "\n",
    "# print import status\n",
    "print(f'Database configuration imported')\n",
    "print(f'Python dependencies imported')"
   ]
  },
  {
   "cell_type": "code",
   "execution_count": 3,
   "metadata": {},
   "outputs": [
    {
     "name": "stdout",
     "output_type": "stream",
     "text": [
      "Process start time recorded\n",
      "---\n"
     ]
    }
   ],
   "source": [
    "# record start time for total run time\n",
    "nb_start = time.time() # measures number of seconds since 1970\n",
    "\n",
    "# print time record status\n",
    "print(f'Process start time recorded')\n",
    "print(f'---')"
   ]
  },
  {
   "cell_type": "code",
   "execution_count": 4,
   "metadata": {},
   "outputs": [
    {
     "name": "stdout",
     "output_type": "stream",
     "text": [
      "Kaggle API token loaded\n"
     ]
    }
   ],
   "source": [
    "# Go to https://www.kaggle.com/user_name/account to create API token\n",
    "# Place kaggle.json (download) into 'C:\\Users\\computer_name\\.kaggle\\kaggle.json'\n",
    "kaggle.api.authenticate()\n",
    "\n",
    "# print token status\n",
    "print(f'Kaggle API token loaded')"
   ]
  },
  {
   "cell_type": "code",
   "execution_count": 5,
   "metadata": {},
   "outputs": [
    {
     "name": "stdout",
     "output_type": "stream",
     "text": [
      "Retrieving Brain Weight data from Kaggle...\n",
      "Files retrieved!\n",
      "-\n"
     ]
    }
   ],
   "source": [
    "print(f'Retrieving Brain Weight data from Kaggle...')\n",
    "\n",
    "# download kaggle dataset (NHL Hockey Data)\n",
    "# will overwrite local files, if they exist\n",
    "kaggle.api.dataset_download_files(\n",
    "    'anubhabswain/brain-weight-in-humans',\n",
    "    path = '../big-brained-brads/data/',\n",
    "    unzip = True\n",
    ")\n",
    "\n",
    "# print file retrieval status\n",
    "print(f'Files retrieved!')\n",
    "print(f'-')"
   ]
  },
  {
   "cell_type": "markdown",
   "metadata": {},
   "source": [
    "###### Import CSVs to Dataframes, Transform"
   ]
  },
  {
   "cell_type": "code",
   "execution_count": 6,
   "metadata": {},
   "outputs": [
    {
     "name": "stdout",
     "output_type": "stream",
     "text": [
      "Begin importing CSV to dataframe...\n"
     ]
    }
   ],
   "source": [
    "# print import process message\n",
    "print(f'Begin importing CSV to dataframe...')"
   ]
  },
  {
   "cell_type": "code",
   "execution_count": 7,
   "metadata": {},
   "outputs": [
    {
     "data": {
      "text/html": [
       "<div>\n",
       "<style scoped>\n",
       "    .dataframe tbody tr th:only-of-type {\n",
       "        vertical-align: middle;\n",
       "    }\n",
       "\n",
       "    .dataframe tbody tr th {\n",
       "        vertical-align: top;\n",
       "    }\n",
       "\n",
       "    .dataframe thead th {\n",
       "        text-align: right;\n",
       "    }\n",
       "</style>\n",
       "<table border=\"1\" class=\"dataframe\">\n",
       "  <thead>\n",
       "    <tr style=\"text-align: right;\">\n",
       "      <th></th>\n",
       "      <th>gender</th>\n",
       "      <th>age</th>\n",
       "      <th>size</th>\n",
       "      <th>weight</th>\n",
       "    </tr>\n",
       "  </thead>\n",
       "  <tbody>\n",
       "    <tr>\n",
       "      <th>0</th>\n",
       "      <td>1</td>\n",
       "      <td>1</td>\n",
       "      <td>4512</td>\n",
       "      <td>1530</td>\n",
       "    </tr>\n",
       "    <tr>\n",
       "      <th>1</th>\n",
       "      <td>1</td>\n",
       "      <td>1</td>\n",
       "      <td>3738</td>\n",
       "      <td>1297</td>\n",
       "    </tr>\n",
       "    <tr>\n",
       "      <th>2</th>\n",
       "      <td>1</td>\n",
       "      <td>1</td>\n",
       "      <td>4261</td>\n",
       "      <td>1335</td>\n",
       "    </tr>\n",
       "    <tr>\n",
       "      <th>3</th>\n",
       "      <td>1</td>\n",
       "      <td>1</td>\n",
       "      <td>3777</td>\n",
       "      <td>1282</td>\n",
       "    </tr>\n",
       "    <tr>\n",
       "      <th>4</th>\n",
       "      <td>1</td>\n",
       "      <td>1</td>\n",
       "      <td>4177</td>\n",
       "      <td>1590</td>\n",
       "    </tr>\n",
       "  </tbody>\n",
       "</table>\n",
       "</div>"
      ],
      "text/plain": [
       "   gender  age  size  weight\n",
       "0       1    1  4512    1530\n",
       "1       1    1  3738    1297\n",
       "2       1    1  4261    1335\n",
       "3       1    1  3777    1282\n",
       "4       1    1  4177    1590"
      ]
     },
     "execution_count": 7,
     "metadata": {},
     "output_type": "execute_result"
    }
   ],
   "source": [
    "# read player_info csv to df\n",
    "brains_df = pd.read_csv('data/dataset.csv')\n",
    "brains_df.rename(columns = {\n",
    "    'Gender' : 'gender',\n",
    "    'Age Range' : 'age',\n",
    "    'Head Size(cm^3)' : 'size',\n",
    "    'Brain Weight(grams)' : 'weight'\n",
    "}, inplace = True)\n",
    "brains_df.head(5)"
   ]
  },
  {
   "cell_type": "code",
   "execution_count": 8,
   "metadata": {},
   "outputs": [],
   "source": [
    "brains_df['gender'] = brains_df['gender'].astype(str)\n",
    "brains_df['age'] = brains_df['age'].astype(str)"
   ]
  },
  {
   "cell_type": "code",
   "execution_count": 9,
   "metadata": {},
   "outputs": [
    {
     "data": {
      "text/plain": [
       "gender    object\n",
       "age       object\n",
       "size       int64\n",
       "weight     int64\n",
       "dtype: object"
      ]
     },
     "execution_count": 9,
     "metadata": {},
     "output_type": "execute_result"
    }
   ],
   "source": [
    "brains_df.dtypes"
   ]
  },
  {
   "cell_type": "code",
   "execution_count": 10,
   "metadata": {},
   "outputs": [
    {
     "data": {
      "text/html": [
       "<div>\n",
       "<style scoped>\n",
       "    .dataframe tbody tr th:only-of-type {\n",
       "        vertical-align: middle;\n",
       "    }\n",
       "\n",
       "    .dataframe tbody tr th {\n",
       "        vertical-align: top;\n",
       "    }\n",
       "\n",
       "    .dataframe thead th {\n",
       "        text-align: right;\n",
       "    }\n",
       "</style>\n",
       "<table border=\"1\" class=\"dataframe\">\n",
       "  <thead>\n",
       "    <tr style=\"text-align: right;\">\n",
       "      <th></th>\n",
       "      <th>gender</th>\n",
       "      <th>age</th>\n",
       "      <th>size</th>\n",
       "      <th>weight</th>\n",
       "    </tr>\n",
       "  </thead>\n",
       "  <tbody>\n",
       "    <tr>\n",
       "      <th>0</th>\n",
       "      <td>male</td>\n",
       "      <td>adult</td>\n",
       "      <td>4512</td>\n",
       "      <td>1530</td>\n",
       "    </tr>\n",
       "    <tr>\n",
       "      <th>1</th>\n",
       "      <td>male</td>\n",
       "      <td>adult</td>\n",
       "      <td>3738</td>\n",
       "      <td>1297</td>\n",
       "    </tr>\n",
       "    <tr>\n",
       "      <th>2</th>\n",
       "      <td>male</td>\n",
       "      <td>adult</td>\n",
       "      <td>4261</td>\n",
       "      <td>1335</td>\n",
       "    </tr>\n",
       "    <tr>\n",
       "      <th>3</th>\n",
       "      <td>male</td>\n",
       "      <td>adult</td>\n",
       "      <td>3777</td>\n",
       "      <td>1282</td>\n",
       "    </tr>\n",
       "    <tr>\n",
       "      <th>4</th>\n",
       "      <td>male</td>\n",
       "      <td>adult</td>\n",
       "      <td>4177</td>\n",
       "      <td>1590</td>\n",
       "    </tr>\n",
       "  </tbody>\n",
       "</table>\n",
       "</div>"
      ],
      "text/plain": [
       "  gender    age  size  weight\n",
       "0   male  adult  4512    1530\n",
       "1   male  adult  3738    1297\n",
       "2   male  adult  4261    1335\n",
       "3   male  adult  3777    1282\n",
       "4   male  adult  4177    1590"
      ]
     },
     "execution_count": 10,
     "metadata": {},
     "output_type": "execute_result"
    }
   ],
   "source": [
    "brains_df['gender'].replace({'1' : 'male', '2' : 'female'}, inplace = True)\n",
    "brains_df['age'].replace({'1' : 'adult', '2' : 'child'}, inplace = True)\n",
    "brains_df.head()"
   ]
  },
  {
   "cell_type": "markdown",
   "metadata": {},
   "source": [
    "###### Connect to Database"
   ]
  },
  {
   "cell_type": "code",
   "execution_count": 11,
   "metadata": {},
   "outputs": [],
   "source": [
    "# create connection function using psycops execute(), also print statuses\n",
    "def connect(params):\n",
    "    conn = None\n",
    "    try:\n",
    "        print(f'Connecting to the PostgreSQL database...')\n",
    "        conn = psycopg2.connect(**params)\n",
    "        # create cursor to run query\n",
    "        cur = conn.cursor()\n",
    "        # return database version\n",
    "        cur.execute('SELECT version();')\n",
    "        # fetch one result\n",
    "        record = cur.fetchone()\n",
    "        print('You are connected to -', record)\n",
    "        # close cursor\n",
    "        cur.close()\n",
    "    except (Exception, psycopg2.DatabaseError) as error:\n",
    "        print('Error while connecting to PostgreSQL database', error)\n",
    "    # close connection\n",
    "    finally:\n",
    "        if (conn):\n",
    "            cur.close()\n",
    "            conn.rollback()\n",
    "        return conn"
   ]
  },
  {
   "cell_type": "code",
   "execution_count": 12,
   "metadata": {},
   "outputs": [
    {
     "name": "stdout",
     "output_type": "stream",
     "text": [
      "Database connector created\n"
     ]
    }
   ],
   "source": [
    "# create connector for pandas.to_sql() method for loading data to database\n",
    "engine = create_engine(f'postgresql://{user}:{password}@{host}:5432/{database}')\n",
    "\n",
    "# print connector status\n",
    "print(f'Database connector created')"
   ]
  },
  {
   "cell_type": "code",
   "execution_count": 13,
   "metadata": {},
   "outputs": [
    {
     "name": "stdout",
     "output_type": "stream",
     "text": [
      "Connecting to the PostgreSQL database...\n",
      "You are connected to - ('PostgreSQL 13.2, compiled by Visual C++ build 1914, 64-bit',)\n",
      "-\n"
     ]
    }
   ],
   "source": [
    "# test database connection\n",
    "conn = connect(param_dic)\n",
    "\n",
    "# print partition from connection status\n",
    "print(f'-')"
   ]
  },
  {
   "cell_type": "code",
   "execution_count": 14,
   "metadata": {},
   "outputs": [],
   "source": [
    "# create schema function with status print\n",
    "def create_schema(sql_file):\n",
    "    cursor = conn.cursor()\n",
    "    try:\n",
    "        print(f'Creating schema in database using {sql_file}...')\n",
    "        cursor.execute(open(sql_file, 'r').read())\n",
    "        print('Schema successfully created!')\n",
    "        conn.commit()\n",
    "    except (Exception, psycopg2.DatabaseError) as error:\n",
    "        print('Error while creating schema in database', error)\n",
    "        conn.rollback()\n",
    "    # close cursor\n",
    "    cursor.close()"
   ]
  },
  {
   "cell_type": "code",
   "execution_count": 15,
   "metadata": {},
   "outputs": [
    {
     "name": "stdout",
     "output_type": "stream",
     "text": [
      "Creating schema in database using queries/create_schema.sql...\n",
      "Schema successfully created!\n"
     ]
    }
   ],
   "source": [
    "# run SQL file to create schema\n",
    "create_schema('queries/create_schema.sql')"
   ]
  },
  {
   "cell_type": "code",
   "execution_count": 16,
   "metadata": {},
   "outputs": [],
   "source": [
    "# to sql function to use pandas to_sql function with status print\n",
    "def to_sql(df, table):\n",
    "    start = time.time()\n",
    "    print(f'Staging {table}...')\n",
    "    print(f'-')\n",
    "    try:\n",
    "        print(f'Loading {table} to the PostgreSQL database...')\n",
    "        # use pd.to_sql() to set load details\n",
    "        df.to_sql(\n",
    "            table, \n",
    "            con = engine, \n",
    "            schema = 'public', \n",
    "            if_exists = 'append',\n",
    "            index = False\n",
    "        )\n",
    "    except (Exception, psycopg2.DatabaseError) as error:\n",
    "        print(f'Error: %s' % error)\n",
    "        print(f'-')\n",
    "        print(f'Load failed.')\n",
    "        print(f'---')\n",
    "        return 1\n",
    "    end = time.time()\n",
    "    seconds = round((end - start) % 60)\n",
    "    minutes = round(((end - start) - seconds) / 60)\n",
    "    print(f'Load successful!  Run Time: {minutes}min {seconds}sec')\n",
    "    print(f'---')"
   ]
  },
  {
   "cell_type": "code",
   "execution_count": 17,
   "metadata": {},
   "outputs": [
    {
     "name": "stdout",
     "output_type": "stream",
     "text": [
      "-\n",
      "Begin loading dataframes to the PostgreSQL database.\n",
      "-\n"
     ]
    }
   ],
   "source": [
    "# print data load status message\n",
    "print(f'-')\n",
    "print(f'Begin loading dataframes to the PostgreSQL database.')\n",
    "print(f'-')"
   ]
  },
  {
   "cell_type": "code",
   "execution_count": 18,
   "metadata": {},
   "outputs": [
    {
     "name": "stdout",
     "output_type": "stream",
     "text": [
      "Staging brain_weights...\n",
      "-\n",
      "Loading brain_weights to the PostgreSQL database...\n",
      "Load successful!  Run Time: 0min 0sec\n",
      "---\n"
     ]
    }
   ],
   "source": [
    "# load df to sql db table (df, table)\n",
    "to_sql(brains_df, 'brain_weights')"
   ]
  },
  {
   "cell_type": "code",
   "execution_count": 19,
   "metadata": {},
   "outputs": [],
   "source": [
    "# load data function for reading dataframe, loading to sql database with status print\n",
    "def load_data(conn, df, table):\n",
    "    start = time.time()\n",
    "    print(f'Staging {table}...')\n",
    "    print(f'-')\n",
    "    # create list of tupples from dataframe values\n",
    "    tuples = [tuple(x) for x in df.to_numpy()]\n",
    "    # comma-separated dataframe columns\n",
    "    cols = ','.join(list(df.columns))\n",
    "    # SQL query to execute insert\n",
    "    query  = 'INSERT INTO %s(%s) VALUES %%s' % (table, cols)\n",
    "    cursor = conn.cursor()\n",
    "    try:\n",
    "        print(f'Loading {table} to the PostgreSQL database...')\n",
    "        extras.execute_values(cursor, query, tuples)\n",
    "        conn.commit()\n",
    "    except (Exception, psycopg2.DatabaseError) as error:\n",
    "        print(f'Error: %s' % error)\n",
    "        print(f'-')\n",
    "        print(f'Load failed.')\n",
    "        print(f'---')\n",
    "        conn.rollback()\n",
    "        cursor.close()\n",
    "        return 1\n",
    "    end = time.time()\n",
    "    seconds = round((end - start) % 60)\n",
    "    minutes = round(((end - start) - seconds) / 60)\n",
    "    print(f'Load successful!  Run Time: {minutes}min {seconds}sec')\n",
    "    print(f'---')\n",
    "    cursor.close()"
   ]
  },
  {
   "cell_type": "code",
   "execution_count": 20,
   "metadata": {},
   "outputs": [
    {
     "name": "stdout",
     "output_type": "stream",
     "text": [
      "Staging brain_weights...\n",
      "-\n",
      "Loading brain_weights to the PostgreSQL database...\n",
      "Load successful!  Run Time: 0min 0sec\n",
      "---\n"
     ]
    }
   ],
   "source": [
    "# load df to sql db table\n",
    "load_data(conn, brains_df, 'brain_weights')"
   ]
  },
  {
   "cell_type": "code",
   "execution_count": null,
   "metadata": {},
   "outputs": [],
   "source": []
  },
  {
   "cell_type": "code",
   "execution_count": null,
   "metadata": {},
   "outputs": [],
   "source": []
  },
  {
   "cell_type": "code",
   "execution_count": null,
   "metadata": {},
   "outputs": [],
   "source": []
  },
  {
   "cell_type": "code",
   "execution_count": null,
   "metadata": {},
   "outputs": [],
   "source": []
  },
  {
   "cell_type": "code",
   "execution_count": null,
   "metadata": {},
   "outputs": [],
   "source": []
  },
  {
   "cell_type": "code",
   "execution_count": null,
   "metadata": {},
   "outputs": [],
   "source": []
  }
 ],
 "metadata": {
  "kernelspec": {
   "display_name": "Python 3",
   "language": "python",
   "name": "python3"
  },
  "language_info": {
   "codemirror_mode": {
    "name": "ipython",
    "version": 3
   },
   "file_extension": ".py",
   "mimetype": "text/x-python",
   "name": "python",
   "nbconvert_exporter": "python",
   "pygments_lexer": "ipython3",
   "version": "3.8.5"
  }
 },
 "nbformat": 4,
 "nbformat_minor": 4
}
